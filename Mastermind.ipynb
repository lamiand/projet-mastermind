{
  "nbformat": 4,
  "nbformat_minor": 0,
  "metadata": {
    "colab": {
      "name": "Mastermind.ipynb",
      "provenance": [],
      "collapsed_sections": [],
      "authorship_tag": "ABX9TyP0bKL2Pn3Oz2fIPO5fX9Cy",
      "include_colab_link": true
    },
    "kernelspec": {
      "name": "python3",
      "display_name": "Python 3"
    }
  },
  "cells": [
    {
      "cell_type": "markdown",
      "metadata": {
        "id": "view-in-github",
        "colab_type": "text"
      },
      "source": [
        "<a href=\"https://colab.research.google.com/github/lamiand/projet-mastermind/blob/master/Mastermind.ipynb\" target=\"_parent\"><img src=\"https://colab.research.google.com/assets/colab-badge.svg\" alt=\"Open In Colab\"/></a>"
      ]
    },
    {
      "cell_type": "code",
      "metadata": {
        "id": "Z7hsU7jPhP6v"
      },
      "source": [
        "import random\n",
        "\n",
        "\n",
        "class Mastermind: \n",
        "    def __init__(self, user, verbose=False, p=None):\n",
        "        self.liste_solution = [ 0, 0, 0, 0]\n",
        "        self.liste_proposition = [ 0, 0, 0, 0]\n",
        "        self.nombre_mal_place = 0\n",
        "        self.nombre_bien_place = 0\n",
        "        self.tour = 0 \n",
        "        self.partie_gagne = 0\n",
        "        self.user1 = user\n",
        "        self.settings = [ 0, 0, 0, 0]   #nombre de couleur ia vs ia etc   Settings[0] qui remplit la liste de solution, settings[1] qui joue, settings[2] nb de couleur dispo\n",
        "        self.couleur = [\"rouge\", \"jaune\", \"bleu\", \"vert\", \"noire\", \"orange\", \"gris\", \"marron\"]\n",
        "\n",
        "\n",
        "    def initialisation_jeu(self):    # On initialise la partie en générant la solution (4 couleurs diférentes) qu'on met dans une liste\n",
        "        self.liste_solution = random.sample(self.couleur, k=4)\n",
        "        self.tour = 0 \n",
        "        return self.liste_solution\n",
        "    \n",
        "    def remplir_une_grille(self):   \n",
        "        liste_couleurs_joueur = [0,0,0,0]\n",
        "        self.choix_possible = [\"rouge\", \"jaune\", \"bleu\", \"vert\", \"noire\", \"orange\", \"gris\", \"marron\"] #liste de couleurs disponibles à la sélection\n",
        "        \n",
        "        for case in range(4): # pour chaque case on va choisir une couleur\n",
        "            print (f\"Rentrez la couleur de la case {case}. Vous avez le choix entre {len(self.choix_possible)} couleurs\") \n",
        "            print(self.choix_possible, \"\\n\")   \n",
        "            liste_couleurs_joueur[case] = input()\n",
        "            \n",
        "            couleur_choisie = False\n",
        "\n",
        "            while couleur_choisie is False:\n",
        "              \n",
        "              for couleur in self.choix_possible:\n",
        "\n",
        "                if liste_couleurs_joueur[case] == couleur:\n",
        "                  self.choix_possible.remove(liste_couleurs_joueur[case])\n",
        "                  couleur_choisie = True\n",
        "                  \n",
        "              if couleur_choisie is False:\n",
        "                print(\"Vous devez choisir une des couleurs restantes !\")\n",
        "                print(self.choix_possible)\n",
        "                liste_couleurs_joueur[case] = input()\n",
        "            \n",
        "        self.liste_proposition = liste_couleurs_joueur\n",
        "    \n",
        "    def comparaison_de_grille(self):\n",
        "\n",
        "        print(self.liste_solution)\n",
        "        if self.liste_proposition == self.liste_solution :\n",
        "          self.partie_gagne += 1\n",
        "        \n",
        "        else:\n",
        "            for case in range(4):\n",
        "              if self.liste_proposition[case] == self.liste_solution[case]:\n",
        "                self.nombre_bien_place += 1\n",
        "              else:\n",
        "                for compteur in range(1,4):      #check les 3 autres cases, boucle\n",
        "                  autre_case_a_comparer = (case + compteur)    # incremente \n",
        "                  if self.liste_proposition[autre_case_a_comparer % 4] == self.liste_solution[case] :   # modulo 4, si check las case 3 + 2 par exemple, case 6 existe pas, on veut check las case 2 -> 6  modulo 4 =2\n",
        "                    self.nombre_mal_place += 1\n",
        "\n",
        "        print(self.nombre_bien_place,self.nombre_mal_place)\n",
        "\n",
        "\n",
        "    def fin_de_tour(self):#recap dataframe update, remet les val a 0 needed \n",
        "        self.nombre_bien_place = 0   #remet a 0 pour le prochain tour, \n",
        "        self.nombre_mal_place = 0 \n",
        "        self.tour += 1\n",
        "\n",
        "\n",
        "    def tour_de_jeu(self):    #rentre une proposition renvoie mal placé bien placé ou si gagné \n",
        "\n",
        "        self.remplir_une_grille()    # remplir grille \n",
        "        self.comparaison_de_grille()    # compare les grilles pour connaître les nombres de billes bien placées et mal placées, voir la victoire\n",
        "\n",
        "        print(f\"Les valeur bien placées sont aux compte de : {self.nombre_bien_place}\")\n",
        "        print(f\"Les valeur mal placées sont aux compte de : {self.nombre_mal_place}\")  #On affiche ces nombres\n",
        "      \n",
        "        self.tour += 1   # On incrémente la variable pour nous faire passer au tour suivant\n",
        "\n",
        "        if self.tour == 12:\n",
        "          print(\"Partie perdun, t'es mauvais Jack !\")\n",
        "\n",
        "        if self.partie_gagne == 1:\n",
        "           print(\"Partie gagné, bravo Hubert !\")\n",
        "           \n",
        "        else: \n",
        "          self.fin_de_tour()\n",
        "\n",
        "    def lancer_une_partie(self):\n",
        "        self.initialisation_jeu()\n",
        "\n",
        "        while(self.partie_gagne == 0 and self.tour < 12):\n",
        "          self.tour_de_jeu()\n",
        "    \n"
      ],
      "execution_count": 70,
      "outputs": []
    },
    {
      "cell_type": "code",
      "metadata": {
        "colab": {
          "base_uri": "https://localhost:8080/"
        },
        "id": "UNaAtbSExXDE",
        "outputId": "fb33ffbe-0c4b-451a-87ee-2e9c2c7911a6"
      },
      "source": [
        "jeu = Mastermind(\"joueur\")\n",
        "\n",
        "jeu.lancer_une_partie()v"
      ],
      "execution_count": 71,
      "outputs": [
        {
          "output_type": "stream",
          "text": [
            "Rentrez la couleur de la case 0. Vous avez le choix entre 8 couleurs\n",
            "['rouge', 'jaune', 'bleu', 'vert', 'noire', 'orange', 'gris', 'marron'] \n",
            "\n",
            "jaune\n",
            "Rentrez la couleur de la case 1. Vous avez le choix entre 7 couleurs\n",
            "['rouge', 'bleu', 'vert', 'noire', 'orange', 'gris', 'marron'] \n",
            "\n",
            "vert\n",
            "Rentrez la couleur de la case 2. Vous avez le choix entre 6 couleurs\n",
            "['rouge', 'bleu', 'noire', 'orange', 'gris', 'marron'] \n",
            "\n",
            "noire\n",
            "Rentrez la couleur de la case 3. Vous avez le choix entre 5 couleurs\n",
            "['rouge', 'bleu', 'orange', 'gris', 'marron'] \n",
            "\n",
            "gris\n",
            "['noire', 'orange', 'vert', 'bleu']\n",
            "0 2\n",
            "Les valeur bien placées sont aux compte de : 0\n",
            "Les valeur mal placées sont aux compte de : 2\n",
            "Rentrez la couleur de la case 0. Vous avez le choix entre 8 couleurs\n",
            "['rouge', 'jaune', 'bleu', 'vert', 'noire', 'orange', 'gris', 'marron'] \n",
            "\n",
            "noire \n",
            "Vous devez choisir une des couleurs restantes !\n",
            "['rouge', 'jaune', 'bleu', 'vert', 'noire', 'orange', 'gris', 'marron']\n",
            "orange\n",
            "Rentrez la couleur de la case 1. Vous avez le choix entre 7 couleurs\n",
            "['rouge', 'jaune', 'bleu', 'vert', 'noire', 'gris', 'marron'] \n",
            "\n",
            "vert\n",
            "Rentrez la couleur de la case 2. Vous avez le choix entre 6 couleurs\n",
            "['rouge', 'jaune', 'bleu', 'noire', 'gris', 'marron'] \n",
            "\n",
            "bleu\n",
            "Rentrez la couleur de la case 3. Vous avez le choix entre 5 couleurs\n",
            "['rouge', 'jaune', 'noire', 'gris', 'marron'] \n",
            "\n",
            "noire\n",
            "['noire', 'orange', 'vert', 'bleu']\n",
            "0 4\n",
            "Les valeur bien placées sont aux compte de : 0\n",
            "Les valeur mal placées sont aux compte de : 4\n",
            "Rentrez la couleur de la case 0. Vous avez le choix entre 8 couleurs\n",
            "['rouge', 'jaune', 'bleu', 'vert', 'noire', 'orange', 'gris', 'marron'] \n",
            "\n",
            "noire\n",
            "Rentrez la couleur de la case 1. Vous avez le choix entre 7 couleurs\n",
            "['rouge', 'jaune', 'bleu', 'vert', 'orange', 'gris', 'marron'] \n",
            "\n",
            "orange\n",
            "Rentrez la couleur de la case 2. Vous avez le choix entre 6 couleurs\n",
            "['rouge', 'jaune', 'bleu', 'vert', 'gris', 'marron'] \n",
            "\n",
            "vert\n",
            "Rentrez la couleur de la case 3. Vous avez le choix entre 5 couleurs\n",
            "['rouge', 'jaune', 'bleu', 'gris', 'marron'] \n",
            "\n",
            "bleu\n",
            "['noire', 'orange', 'vert', 'bleu']\n",
            "0 0\n",
            "Les valeur bien placées sont aux compte de : 0\n",
            "Les valeur mal placées sont aux compte de : 0\n",
            "Partie gagné, bravo Hubert !\n"
          ],
          "name": "stdout"
        }
      ]
    },
    {
      "cell_type": "code",
      "metadata": {
        "id": "Z_XI9I7rtkK0"
      },
      "source": [
        ""
      ],
      "execution_count": null,
      "outputs": []
    },
    {
      "cell_type": "code",
      "metadata": {
        "id": "Bu9SaNFQol-b"
      },
      "source": [
        "\n",
        "\n",
        "\n",
        "    \"\"\"\n",
        "    def check_si_partie_termine(): \n",
        "      if self.partie_gagne = 1 : print(\"stop\")\n",
        "    def fin_de_tour_de_jeu():#recap dataframe update, remet les val a 0 needed \n",
        "    def fin_de_partie(): \n",
        "\n",
        "    def jouer_jeu():\n",
        "    def choix_ia_random():   #definir une ia qui repond de maniere totalement random\n",
        "\n",
        "    def recap_de_fin_de_partie():    #pour la data/analyse/need le update chaque tour idataframe par partie 12 colonnes + le nombre de tour joué + la proposition \n",
        "    def update_recap_de_partie():   # chaque tour remplie le dataframe les propos\n",
        "\"\"\""
      ],
      "execution_count": 38,
      "outputs": []
    },
    {
      "cell_type": "code",
      "metadata": {
        "colab": {
          "base_uri": "https://localhost:8080/",
          "height": 469
        },
        "id": "xtZKOVvexZB5",
        "outputId": "4663a963-a4de-4709-871b-5b4159070da7"
      },
      "source": [
        "\n"
      ],
      "execution_count": 39,
      "outputs": [
        {
          "output_type": "stream",
          "text": [
            "Rentrez la couleur de la case 0. Vous avez le choix entre 8 couleurs\n",
            "['rouge', 'jaune', 'bleu', 'vert', 'noire', 'orange', 'gris', 'marron'] \n",
            "\n",
            "rouge\n",
            "Rentrez la couleur de la case 1. Vous avez le choix entre 7 couleurs\n",
            "['jaune', 'bleu', 'vert', 'noire', 'orange', 'gris', 'marron'] \n",
            "\n",
            "jaune\n",
            "Rentrez la couleur de la case 2. Vous avez le choix entre 6 couleurs\n",
            "['bleu', 'vert', 'noire', 'orange', 'gris', 'marron'] \n",
            "\n",
            "bleu\n",
            "Rentrez la couleur de la case 3. Vous avez le choix entre 5 couleurs\n",
            "['vert', 'noire', 'orange', 'gris', 'marron'] \n",
            "\n",
            "vert\n"
          ],
          "name": "stdout"
        },
        {
          "output_type": "error",
          "ename": "AttributeError",
          "evalue": "ignored",
          "traceback": [
            "\u001b[0;31m---------------------------------------------------------------------------\u001b[0m",
            "\u001b[0;31mAttributeError\u001b[0m                            Traceback (most recent call last)",
            "\u001b[0;32m<ipython-input-39-70db2bb82e2d>\u001b[0m in \u001b[0;36m<module>\u001b[0;34m()\u001b[0m\n\u001b[1;32m      2\u001b[0m \u001b[0mjeu\u001b[0m\u001b[0;34m.\u001b[0m\u001b[0minitialisation_jeu\u001b[0m\u001b[0;34m(\u001b[0m\u001b[0;34m)\u001b[0m\u001b[0;34m\u001b[0m\u001b[0;34m\u001b[0m\u001b[0m\n\u001b[1;32m      3\u001b[0m \u001b[0mjeu\u001b[0m\u001b[0;34m.\u001b[0m\u001b[0mremplir_une_grille\u001b[0m\u001b[0;34m(\u001b[0m\u001b[0;34m)\u001b[0m\u001b[0;34m\u001b[0m\u001b[0;34m\u001b[0m\u001b[0m\n\u001b[0;32m----> 4\u001b[0;31m \u001b[0mjeu\u001b[0m\u001b[0;34m.\u001b[0m\u001b[0mcomparaison_de_grille\u001b[0m\u001b[0;34m(\u001b[0m\u001b[0;34m)\u001b[0m\u001b[0;34m\u001b[0m\u001b[0;34m\u001b[0m\u001b[0m\n\u001b[0m",
            "\u001b[0;31mAttributeError\u001b[0m: 'Mastermind' object has no attribute 'comparaison_de_grille'"
          ]
        }
      ]
    }
  ]
}
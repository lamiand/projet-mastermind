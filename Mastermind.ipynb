{
 "cells": [
  {
   "cell_type": "markdown",
   "metadata": {
    "colab_type": "text",
    "id": "view-in-github"
   },
   "source": [
    "<a href=\"https://colab.research.google.com/github/lamiand/projet-mastermind/blob/master/Mastermind.ipynb\" target=\"_parent\"><img src=\"https://colab.research.google.com/assets/colab-badge.svg\" alt=\"Open In Colab\"/></a>"
   ]
  },
  {
   "cell_type": "code",
   "execution_count": 1,
   "metadata": {
    "id": "Z7hsU7jPhP6v"
   },
   "outputs": [],
   "source": [
    "import random\n",
    "\n",
    "\n",
    "class Mastermind: \n",
    "    def __init__(self, user):\n",
    "        self.liste_solution = [ 0, 0, 0, 0]\n",
    "        self.liste_proposition = [ 0, 0, 0, 0]\n",
    "        self.nombre_mal_place = 0\n",
    "        self.nombre_bien_place = 0\n",
    "        self.tour = 1 \n",
    "        self.partie_gagne = 0\n",
    "        self.user1 = user\n",
    "        self.dict_actions_precedentes = {}\n",
    "        #nombre de couleur ia vs ia etc   Settings[0] qui remplit la liste de solution, \n",
    "        #settings[1] qui joue, settings[2] nb de couleur dispo\n",
    "        self.settings = [ 0, 0, 0, 0]   \n",
    "        self.couleur = [\"rouge\", \"jaune\", \"bleu\", \"vert\", \"noire\", \"orange\", \"gris\", \"marron\"]\n",
    "\n",
    "    # fonction qui va retourner la solution pour la partie qu'on commence \n",
    "    def initialisation_jeu(self):    \n",
    "\n",
    "        # On initialise la partie en générant la solution (4 couleurs diférentes) \n",
    "        # qu'on met dans une liste\n",
    "        self.liste_solution = random.sample(self.couleur, k=4) \n",
    "        self.tour = 0 \n",
    "        return self.liste_solution\n",
    "    \n",
    "    # fonction qu'on va appeler chaque fois qu'on doit remplir notre grille de boules de couleur, \n",
    "    # donc à chaque tour\n",
    "    def remplir_une_grille(self):  \n",
    "\n",
    "        liste_couleurs_joueur = [0,0,0,0] \n",
    "        #liste de couleurs disponibles à la sélection\n",
    "        self.choix_possible = [\"rouge\", \"jaune\", \"bleu\", \"vert\", \"noire\", \"orange\", \"gris\", \"marron\"] \n",
    "        \n",
    "        for case in range(4): # pour chaque case on va choisir une couleur\n",
    "\n",
    "            # On indique la case qu'on doit remplir \n",
    "            print (f\"Rentrez la couleur de la case {case}. Vous avez le choix entre {len(self.choix_possible)} couleurs\") \n",
    "\n",
    "            # et les couleurs de boule qui sont dispos\n",
    "            print(self.choix_possible, \"\\n\")   \n",
    "\n",
    "            # on demande au joueur de remplir la case\n",
    "            liste_couleurs_joueur[case] = input() \n",
    "            \n",
    "            couleur_choisie = False\n",
    "\n",
    "             # on vérifie grâce à une boucle que  le joueur a choisi à une des couleurs choisies \n",
    "            while couleur_choisie is False: \n",
    "              \n",
    "              for couleur in self.choix_possible:\n",
    "\n",
    "                if liste_couleurs_joueur[case] == couleur:  \n",
    "                  # si la couleur choisie correspond à une des couleurs dispos, \n",
    "                  #on la supprime des choix possibles et on sort de la boucle  \n",
    "                  self.choix_possible.remove(liste_couleurs_joueur[case])\n",
    "                  couleur_choisie = True\n",
    "                  \n",
    "              if couleur_choisie is False:  # sinon on repropose au joueur de rentrer une couleur\n",
    "                print(\"Vous devez choisir une des couleurs restantes !\")\n",
    "                print(self.choix_possible)\n",
    "                liste_couleurs_joueur[case] = input()\n",
    "            \n",
    "        self.liste_proposition = liste_couleurs_joueur\n",
    "        \n",
    "    # fonction qui va comparer la proposition du joueur à la solution\n",
    "    def comparaison_de_grille(self):  \n",
    "\n",
    "        #print(f'La solution est {self.liste_solution}')\n",
    "        # si la proposition du joueur correspond à la solution le joueur gagne la partie\n",
    "        if self.liste_proposition == self.liste_solution : \n",
    "          self.partie_gagne += 1\n",
    "        \n",
    "        else:\n",
    "            for case in range(4):\n",
    "              if self.liste_proposition[case] == self.liste_solution[case]:\n",
    "                self.nombre_bien_place += 1\n",
    "              else:\n",
    "                 #check les 3 autres cases, boucle\n",
    "                for compteur in range(1,4):     \n",
    "                    # incremente\n",
    "                  autre_case_a_comparer = (case + compteur) \n",
    "                 # modulo 4, si check la case 3 + 2 par exemple, case 6 existe pas, on veut check la\n",
    "                 #case 2 -> 6  modulo 4 =2\n",
    "                  if self.liste_proposition[autre_case_a_comparer % 4] == self.liste_solution[case] :  \n",
    "                    self.nombre_mal_place += 1\n",
    "\n",
    "\n",
    "    # récap dataframe update, remet les valeurs du nombres de valeurs bien placées et\n",
    "    # mal placées à 0 et incrémente la variable tour\n",
    "    def fin_de_tour(self):\n",
    "\n",
    "        # On remplit un dictionnaire qui récapitule nos actions et résulats précédents par tour\n",
    "        self.dict_actions_precedentes[self.tour] = [self.liste_proposition, self.nombre_bien_place, self.nombre_mal_place]\n",
    "        print(self.dict_actions_precedentes)\n",
    "\n",
    "        # On initialise nos compteurs de pions bien ou mal placés\n",
    "        self.nombre_bien_place = 0   \n",
    "        self.nombre_mal_place = 0 \n",
    "\n",
    "        # On incrémente la variable pour nous faire passer au tour suivant\n",
    "        self.tour += 1\n",
    "\n",
    "    #rentre une proposition renvoie mal placé bien placé ou si gagné \n",
    "    def tour_de_jeu(self):    \n",
    "\n",
    "        # si le tour suivant qu'on s'apprête à jouer est le 13ème, et que le joueur n'a pas trouvé la solution, alors il a perdu\n",
    "        if self.tour == 13:    \n",
    "          print(\"Partie perdue, t'es mauvais Jack !\")\n",
    "\n",
    "        # remplir grille\n",
    "        self.remplir_une_grille()    \n",
    "\n",
    "        # compare les grilles pour connaître les nombres de billes bien placées et mal placées, \n",
    "        # voir la victoire\n",
    "        self.comparaison_de_grille()    \n",
    "        \n",
    "        print(f\"Les valeur bien placées sont aux compte de {self.nombre_bien_place}\")\n",
    "        print(f\"Les valeur mal placées sont aux compte de {self.nombre_mal_place}\")  \n",
    "      \n",
    "\n",
    "        # si le compteur de la variable est à 1 comme vu plus haut, alors le joueur gagne la partie\n",
    "        if self.partie_gagne == 1:    \n",
    "           print(f\"Partie gagnée, bravo Hubert ! Cela t'a pris seulement {self.tour} pour y arriver, you're so french !\")\n",
    "        \n",
    "        # sinon on appelle la fonction fin de tour\n",
    "        else:             \n",
    "          self.fin_de_tour()\n",
    "\n",
    "         # fonction qui lancera notre partie, elle appelera d'abord la fonction d'initialisation \n",
    "         # puis celle du tour de jeu, tant qu'on a pas gagné ou qu'on n'est pas au tour 13\n",
    "    def lancer_une_partie(self): \n",
    "        self.initialisation_jeu()\n",
    "\n",
    "        while(self.partie_gagne == 0 and self.tour < 13):\n",
    "          self.tour_de_jeu()\n",
    "    \n"
   ]
  },
  {
   "cell_type": "code",
   "execution_count": null,
   "metadata": {
    "colab": {
     "base_uri": "https://localhost:8080/"
    },
    "id": "UNaAtbSExXDE",
    "outputId": "fb33ffbe-0c4b-451a-87ee-2e9c2c7911a6"
   },
   "outputs": [
    {
     "name": "stdout",
     "output_type": "stream",
     "text": [
      "Rentrez la couleur de la case 0. Vous avez le choix entre 8 couleurs\n",
      "['rouge', 'jaune', 'bleu', 'vert', 'noire', 'orange', 'gris', 'marron'] \n",
      "\n",
      "rouge\n",
      "Rentrez la couleur de la case 1. Vous avez le choix entre 7 couleurs\n",
      "['jaune', 'bleu', 'vert', 'noire', 'orange', 'gris', 'marron'] \n",
      "\n",
      "jaune\n",
      "Rentrez la couleur de la case 2. Vous avez le choix entre 6 couleurs\n",
      "['bleu', 'vert', 'noire', 'orange', 'gris', 'marron'] \n",
      "\n",
      "vert\n",
      "Rentrez la couleur de la case 3. Vous avez le choix entre 5 couleurs\n",
      "['bleu', 'noire', 'orange', 'gris', 'marron'] \n",
      "\n",
      "bleu\n",
      "Les valeur bien placées sont aux compte de 0\n",
      "Les valeur mal placées sont aux compte de 1\n",
      "{0: [['rouge', 'jaune', 'vert', 'bleu'], 0, 1]}\n",
      "Rentrez la couleur de la case 0. Vous avez le choix entre 8 couleurs\n",
      "['rouge', 'jaune', 'bleu', 'vert', 'noire', 'orange', 'gris', 'marron'] \n",
      "\n"
     ]
    }
   ],
   "source": [
    "jeu = Mastermind(\"joueur\")\n",
    "\n",
    "jeu.lancer_une_partie()"
   ]
  },
  {
   "cell_type": "code",
   "execution_count": null,
   "metadata": {
    "id": "Z_XI9I7rtkK0"
   },
   "outputs": [],
   "source": []
  },
  {
   "cell_type": "code",
   "execution_count": null,
   "metadata": {
    "id": "Bu9SaNFQol-b"
   },
   "outputs": [],
   "source": [
    "\n",
    "\n",
    "\n",
    "    \"\"\"\n",
    "    def check_si_partie_termine(): \n",
    "      if self.partie_gagne = 1 : print(\"stop\")\n",
    "    def fin_de_tour_de_jeu():#recap dataframe update, remet les val a 0 needed \n",
    "    def fin_de_partie(): \n",
    "\n",
    "    def jouer_jeu():\n",
    "    def choix_ia_random():   #definir une ia qui repond de maniere totalement random\n",
    "\n",
    "    def recap_de_fin_de_partie():    #pour la data/analyse/need le update chaque tour idataframe par partie 12 colonnes + le nombre de tour joué + la proposition \n",
    "    def update_recap_de_partie():   # chaque tour remplie le dataframe les propos\n",
    "\"\"\""
   ]
  },
  {
   "cell_type": "code",
   "execution_count": null,
   "metadata": {
    "colab": {
     "base_uri": "https://localhost:8080/",
     "height": 469
    },
    "id": "xtZKOVvexZB5",
    "outputId": "4663a963-a4de-4709-871b-5b4159070da7"
   },
   "outputs": [],
   "source": [
    "\n"
   ]
  }
 ],
 "metadata": {
  "colab": {
   "authorship_tag": "ABX9TyP0bKL2Pn3Oz2fIPO5fX9Cy",
   "collapsed_sections": [],
   "include_colab_link": true,
   "name": "Mastermind.ipynb",
   "provenance": []
  },
  "kernelspec": {
   "display_name": "Python 3",
   "language": "python",
   "name": "python3"
  },
  "language_info": {
   "codemirror_mode": {
    "name": "ipython",
    "version": 3
   },
   "file_extension": ".py",
   "mimetype": "text/x-python",
   "name": "python",
   "nbconvert_exporter": "python",
   "pygments_lexer": "ipython3",
   "version": "3.8.3"
  }
 },
 "nbformat": 4,
 "nbformat_minor": 4
}
